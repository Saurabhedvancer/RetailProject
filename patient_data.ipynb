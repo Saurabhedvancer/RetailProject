{
 "cells": [
  {
   "cell_type": "code",
   "execution_count": 1,
   "id": "c6a2f1c4",
   "metadata": {},
   "outputs": [],
   "source": [
    "import pandas as pd \n",
    "import seaborn as sns\n",
    "import numpy as np"
   ]
  },
  {
   "cell_type": "code",
   "execution_count": 2,
   "id": "5f92cd6f",
   "metadata": {},
   "outputs": [],
   "source": [
    "data=pd.read_clipboard()\n",
    "# if you are reading from a csv file then use that code here"
   ]
  },
  {
   "cell_type": "code",
   "execution_count": 3,
   "id": "72878c17",
   "metadata": {},
   "outputs": [
    {
     "data": {
      "text/html": [
       "<div>\n",
       "<style scoped>\n",
       "    .dataframe tbody tr th:only-of-type {\n",
       "        vertical-align: middle;\n",
       "    }\n",
       "\n",
       "    .dataframe tbody tr th {\n",
       "        vertical-align: top;\n",
       "    }\n",
       "\n",
       "    .dataframe thead th {\n",
       "        text-align: right;\n",
       "    }\n",
       "</style>\n",
       "<table border=\"1\" class=\"dataframe\">\n",
       "  <thead>\n",
       "    <tr style=\"text-align: right;\">\n",
       "      <th></th>\n",
       "      <th>Col 1</th>\n",
       "      <th>Col 2</th>\n",
       "      <th>Col 3</th>\n",
       "      <th>Col 4</th>\n",
       "      <th>Col 5</th>\n",
       "      <th>Col 6</th>\n",
       "    </tr>\n",
       "  </thead>\n",
       "  <tbody>\n",
       "    <tr>\n",
       "      <th>0</th>\n",
       "      <td>84.800000</td>\n",
       "      <td>1.0</td>\n",
       "      <td>5.2</td>\n",
       "      <td>61.20</td>\n",
       "      <td>22.13</td>\n",
       "      <td>83.3</td>\n",
       "    </tr>\n",
       "    <tr>\n",
       "      <th>1</th>\n",
       "      <td>195.500000</td>\n",
       "      <td>0.4</td>\n",
       "      <td>4.9</td>\n",
       "      <td>20.00</td>\n",
       "      <td>23.50</td>\n",
       "      <td>14.0</td>\n",
       "    </tr>\n",
       "    <tr>\n",
       "      <th>2</th>\n",
       "      <td>16.627270</td>\n",
       "      <td>5.5</td>\n",
       "      <td>0.3</td>\n",
       "      <td>11.90</td>\n",
       "      <td>17.90</td>\n",
       "      <td>64.7</td>\n",
       "    </tr>\n",
       "    <tr>\n",
       "      <th>3</th>\n",
       "      <td>997.000000</td>\n",
       "      <td>0.1</td>\n",
       "      <td>1.8</td>\n",
       "      <td>3.10</td>\n",
       "      <td>18.16</td>\n",
       "      <td>11.6</td>\n",
       "    </tr>\n",
       "    <tr>\n",
       "      <th>4</th>\n",
       "      <td>1.020045</td>\n",
       "      <td>89.8</td>\n",
       "      <td>0.5</td>\n",
       "      <td>63.00</td>\n",
       "      <td>69.20</td>\n",
       "      <td>87.6</td>\n",
       "    </tr>\n",
       "    <tr>\n",
       "      <th>5</th>\n",
       "      <td>7.859813</td>\n",
       "      <td>10.7</td>\n",
       "      <td>0.0</td>\n",
       "      <td>6.20</td>\n",
       "      <td>17.64</td>\n",
       "      <td>62.0</td>\n",
       "    </tr>\n",
       "    <tr>\n",
       "      <th>6</th>\n",
       "      <td>27.647060</td>\n",
       "      <td>3.4</td>\n",
       "      <td>0.1</td>\n",
       "      <td>13.80</td>\n",
       "      <td>27.00</td>\n",
       "      <td>5.4</td>\n",
       "    </tr>\n",
       "    <tr>\n",
       "      <th>7</th>\n",
       "      <td>5.610169</td>\n",
       "      <td>17.7</td>\n",
       "      <td>0.1</td>\n",
       "      <td>2.60</td>\n",
       "      <td>19.00</td>\n",
       "      <td>16.1</td>\n",
       "    </tr>\n",
       "    <tr>\n",
       "      <th>8</th>\n",
       "      <td>0.227368</td>\n",
       "      <td>95.0</td>\n",
       "      <td>5.7</td>\n",
       "      <td>0.61</td>\n",
       "      <td>4.31</td>\n",
       "      <td>17.8</td>\n",
       "    </tr>\n",
       "    <tr>\n",
       "      <th>9</th>\n",
       "      <td>136.142900</td>\n",
       "      <td>0.7</td>\n",
       "      <td>0.1</td>\n",
       "      <td>3.53</td>\n",
       "      <td>18.43</td>\n",
       "      <td>32.6</td>\n",
       "    </tr>\n",
       "    <tr>\n",
       "      <th>10</th>\n",
       "      <td>3.856589</td>\n",
       "      <td>25.8</td>\n",
       "      <td>0.1</td>\n",
       "      <td>8.70</td>\n",
       "      <td>2.60</td>\n",
       "      <td>42.5</td>\n",
       "    </tr>\n",
       "    <tr>\n",
       "      <th>11</th>\n",
       "      <td>36.592590</td>\n",
       "      <td>2.7</td>\n",
       "      <td>2.8</td>\n",
       "      <td>38.80</td>\n",
       "      <td>8.40</td>\n",
       "      <td>22.8</td>\n",
       "    </tr>\n",
       "    <tr>\n",
       "      <th>12</th>\n",
       "      <td>3.408560</td>\n",
       "      <td>25.7</td>\n",
       "      <td>0.4</td>\n",
       "      <td>8.10</td>\n",
       "      <td>3.32</td>\n",
       "      <td>57.3</td>\n",
       "    </tr>\n",
       "    <tr>\n",
       "      <th>13</th>\n",
       "      <td>1.477002</td>\n",
       "      <td>58.7</td>\n",
       "      <td>0.9</td>\n",
       "      <td>8.50</td>\n",
       "      <td>15.10</td>\n",
       "      <td>74.9</td>\n",
       "    </tr>\n",
       "    <tr>\n",
       "      <th>14</th>\n",
       "      <td>24.250000</td>\n",
       "      <td>4.0</td>\n",
       "      <td>6.2</td>\n",
       "      <td>43.30</td>\n",
       "      <td>3.89</td>\n",
       "      <td>26.8</td>\n",
       "    </tr>\n",
       "    <tr>\n",
       "      <th>15</th>\n",
       "      <td>29.375000</td>\n",
       "      <td>3.2</td>\n",
       "      <td>1.2</td>\n",
       "      <td>44.10</td>\n",
       "      <td>5.97</td>\n",
       "      <td>16.5</td>\n",
       "    </tr>\n",
       "    <tr>\n",
       "      <th>16</th>\n",
       "      <td>0.969664</td>\n",
       "      <td>92.3</td>\n",
       "      <td>0.4</td>\n",
       "      <td>0.16</td>\n",
       "      <td>76.50</td>\n",
       "      <td>2.3</td>\n",
       "    </tr>\n",
       "    <tr>\n",
       "      <th>17</th>\n",
       "      <td>3.620818</td>\n",
       "      <td>26.9</td>\n",
       "      <td>0.5</td>\n",
       "      <td>0.90</td>\n",
       "      <td>14.00</td>\n",
       "      <td>30.4</td>\n",
       "    </tr>\n",
       "    <tr>\n",
       "      <th>18</th>\n",
       "      <td>1.104966</td>\n",
       "      <td>88.6</td>\n",
       "      <td>0.1</td>\n",
       "      <td>0.30</td>\n",
       "      <td>3.50</td>\n",
       "      <td>99.1</td>\n",
       "    </tr>\n",
       "    <tr>\n",
       "      <th>19</th>\n",
       "      <td>4.450893</td>\n",
       "      <td>22.4</td>\n",
       "      <td>0.1</td>\n",
       "      <td>0.30</td>\n",
       "      <td>3.40</td>\n",
       "      <td>44.9</td>\n",
       "    </tr>\n",
       "    <tr>\n",
       "      <th>20</th>\n",
       "      <td>2.796610</td>\n",
       "      <td>35.4</td>\n",
       "      <td>2.1</td>\n",
       "      <td>0.15</td>\n",
       "      <td>0.67</td>\n",
       "      <td>97.9</td>\n",
       "    </tr>\n",
       "    <tr>\n",
       "      <th>21</th>\n",
       "      <td>0.340000</td>\n",
       "      <td>40.0</td>\n",
       "      <td>2.3</td>\n",
       "      <td>0.12</td>\n",
       "      <td>12.10</td>\n",
       "      <td>40.3</td>\n",
       "    </tr>\n",
       "    <tr>\n",
       "      <th>22</th>\n",
       "      <td>0.245263</td>\n",
       "      <td>95.0</td>\n",
       "      <td>31.0</td>\n",
       "      <td>0.22</td>\n",
       "      <td>1.60</td>\n",
       "      <td>59.9</td>\n",
       "    </tr>\n",
       "    <tr>\n",
       "      <th>23</th>\n",
       "      <td>1.454412</td>\n",
       "      <td>68.0</td>\n",
       "      <td>1.4</td>\n",
       "      <td>0.55</td>\n",
       "      <td>0.76</td>\n",
       "      <td>99.0</td>\n",
       "    </tr>\n",
       "    <tr>\n",
       "      <th>24</th>\n",
       "      <td>1.393713</td>\n",
       "      <td>66.8</td>\n",
       "      <td>0.0</td>\n",
       "      <td>0.17</td>\n",
       "      <td>2.72</td>\n",
       "      <td>28.0</td>\n",
       "    </tr>\n",
       "  </tbody>\n",
       "</table>\n",
       "</div>"
      ],
      "text/plain": [
       "         Col 1  Col 2  Col 3  Col 4  Col 5  Col 6\n",
       "0    84.800000    1.0    5.2  61.20  22.13   83.3\n",
       "1   195.500000    0.4    4.9  20.00  23.50   14.0\n",
       "2    16.627270    5.5    0.3  11.90  17.90   64.7\n",
       "3   997.000000    0.1    1.8   3.10  18.16   11.6\n",
       "4     1.020045   89.8    0.5  63.00  69.20   87.6\n",
       "5     7.859813   10.7    0.0   6.20  17.64   62.0\n",
       "6    27.647060    3.4    0.1  13.80  27.00    5.4\n",
       "7     5.610169   17.7    0.1   2.60  19.00   16.1\n",
       "8     0.227368   95.0    5.7   0.61   4.31   17.8\n",
       "9   136.142900    0.7    0.1   3.53  18.43   32.6\n",
       "10    3.856589   25.8    0.1   8.70   2.60   42.5\n",
       "11   36.592590    2.7    2.8  38.80   8.40   22.8\n",
       "12    3.408560   25.7    0.4   8.10   3.32   57.3\n",
       "13    1.477002   58.7    0.9   8.50  15.10   74.9\n",
       "14   24.250000    4.0    6.2  43.30   3.89   26.8\n",
       "15   29.375000    3.2    1.2  44.10   5.97   16.5\n",
       "16    0.969664   92.3    0.4   0.16  76.50    2.3\n",
       "17    3.620818   26.9    0.5   0.90  14.00   30.4\n",
       "18    1.104966   88.6    0.1   0.30   3.50   99.1\n",
       "19    4.450893   22.4    0.1   0.30   3.40   44.9\n",
       "20    2.796610   35.4    2.1   0.15   0.67   97.9\n",
       "21    0.340000   40.0    2.3   0.12  12.10   40.3\n",
       "22    0.245263   95.0   31.0   0.22   1.60   59.9\n",
       "23    1.454412   68.0    1.4   0.55   0.76   99.0\n",
       "24    1.393713   66.8    0.0   0.17   2.72   28.0"
      ]
     },
     "execution_count": 3,
     "metadata": {},
     "output_type": "execute_result"
    }
   ],
   "source": [
    "data"
   ]
  },
  {
   "cell_type": "code",
   "execution_count": 4,
   "id": "9655e0d3",
   "metadata": {},
   "outputs": [
    {
     "data": {
      "text/plain": [
       "<seaborn.axisgrid.PairGrid at 0x139d53760>"
      ]
     },
     "execution_count": 4,
     "metadata": {},
     "output_type": "execute_result"
    },
    {
     "data": {
      "image/png": "[encoded data removed]",
      "text/plain": [
       "<Figure size 1080x1080 with 42 Axes>"
      ]
     },
     "metadata": {
      "needs_background": "light"
     },
     "output_type": "display_data"
    }
   ],
   "source": [
    "sns.pairplot(data)"
   ]
  },
  {
   "cell_type": "code",
   "execution_count": 5,
   "id": "99ca9242",
   "metadata": {},
   "outputs": [
    {
     "data": {
      "text/plain": [
       "<AxesSubplot:>"
      ]
     },
     "execution_count": 5,
     "metadata": {},
     "output_type": "execute_result"
    },
    {
     "data": {
      "image/png": "[encoded data removed]",
      "text/plain": [
       "<Figure size 432x288 with 2 Axes>"
      ]
     },
     "metadata": {
      "needs_background": "light"
     },
     "output_type": "display_data"
    }
   ],
   "source": [
    "sns.heatmap(data.corr())"
   ]
  },
  {
   "cell_type": "markdown",
   "id": "f1ad01ee",
   "metadata": {},
   "source": [
    "# Q1"
   ]
  },
  {
   "cell_type": "code",
   "execution_count": 6,
   "id": "9f362981",
   "metadata": {},
   "outputs": [
    {
     "data": {
      "text/html": [
       "<div>\n",
       "<style scoped>\n",
       "    .dataframe tbody tr th:only-of-type {\n",
       "        vertical-align: middle;\n",
       "    }\n",
       "\n",
       "    .dataframe tbody tr th {\n",
       "        vertical-align: top;\n",
       "    }\n",
       "\n",
       "    .dataframe thead th {\n",
       "        text-align: right;\n",
       "    }\n",
       "</style>\n",
       "<table border=\"1\" class=\"dataframe\">\n",
       "  <thead>\n",
       "    <tr style=\"text-align: right;\">\n",
       "      <th></th>\n",
       "      <th>Col 1</th>\n",
       "      <th>Col 2</th>\n",
       "    </tr>\n",
       "  </thead>\n",
       "  <tbody>\n",
       "    <tr>\n",
       "      <th>Col 1</th>\n",
       "      <td>1.000000</td>\n",
       "      <td>-0.316801</td>\n",
       "    </tr>\n",
       "    <tr>\n",
       "      <th>Col 2</th>\n",
       "      <td>-0.316801</td>\n",
       "      <td>1.000000</td>\n",
       "    </tr>\n",
       "  </tbody>\n",
       "</table>\n",
       "</div>"
      ],
      "text/plain": [
       "          Col 1     Col 2\n",
       "Col 1  1.000000 -0.316801\n",
       "Col 2 -0.316801  1.000000"
      ]
     },
     "execution_count": 6,
     "metadata": {},
     "output_type": "execute_result"
    }
   ],
   "source": [
    "data[['Col 1','Col 2']].corr()"
   ]
  },
  {
   "cell_type": "code",
   "execution_count": 7,
   "id": "6665dfef",
   "metadata": {},
   "outputs": [
    {
     "data": {
      "text/plain": [
       "<AxesSubplot:xlabel='Col 2', ylabel='Col 1'>"
      ]
     },
     "execution_count": 7,
     "metadata": {},
     "output_type": "execute_result"
    },
    {
     "data": {
      "image/png": "[encoded data removed]",
      "text/plain": [
       "<Figure size 432x288 with 1 Axes>"
      ]
     },
     "metadata": {
      "needs_background": "light"
     },
     "output_type": "display_data"
    }
   ],
   "source": [
    "sns.scatterplot(data=data,x='Col 2',y='Col 1')"
   ]
  },
  {
   "cell_type": "code",
   "execution_count": 8,
   "id": "129e2ad6",
   "metadata": {},
   "outputs": [],
   "source": [
    "data['Col 2_inv']=1/data['Col 2']"
   ]
  },
  {
   "cell_type": "code",
   "execution_count": 9,
   "id": "6caa9c2b",
   "metadata": {},
   "outputs": [
    {
     "data": {
      "text/html": [
       "<div>\n",
       "<style scoped>\n",
       "    .dataframe tbody tr th:only-of-type {\n",
       "        vertical-align: middle;\n",
       "    }\n",
       "\n",
       "    .dataframe tbody tr th {\n",
       "        vertical-align: top;\n",
       "    }\n",
       "\n",
       "    .dataframe thead th {\n",
       "        text-align: right;\n",
       "    }\n",
       "</style>\n",
       "<table border=\"1\" class=\"dataframe\">\n",
       "  <thead>\n",
       "    <tr style=\"text-align: right;\">\n",
       "      <th></th>\n",
       "      <th>Col 1</th>\n",
       "      <th>Col 2_inv</th>\n",
       "    </tr>\n",
       "  </thead>\n",
       "  <tbody>\n",
       "    <tr>\n",
       "      <th>Col 1</th>\n",
       "      <td>1.000000</td>\n",
       "      <td>0.998564</td>\n",
       "    </tr>\n",
       "    <tr>\n",
       "      <th>Col 2_inv</th>\n",
       "      <td>0.998564</td>\n",
       "      <td>1.000000</td>\n",
       "    </tr>\n",
       "  </tbody>\n",
       "</table>\n",
       "</div>"
      ],
      "text/plain": [
       "              Col 1  Col 2_inv\n",
       "Col 1      1.000000   0.998564\n",
       "Col 2_inv  0.998564   1.000000"
      ]
     },
     "execution_count": 9,
     "metadata": {},
     "output_type": "execute_result"
    }
   ],
   "source": [
    "data[['Col 1','Col 2_inv']].corr()"
   ]
  },
  {
   "cell_type": "code",
   "execution_count": 10,
   "id": "76c3e24c",
   "metadata": {},
   "outputs": [
    {
     "data": {
      "text/plain": [
       "<AxesSubplot:xlabel='Col 2_inv', ylabel='Col 1'>"
      ]
     },
     "execution_count": 10,
     "metadata": {},
     "output_type": "execute_result"
    },
    {
     "data": {
      "image/png": "[encoded data removed]",
      "text/plain": [
       "<Figure size 432x288 with 1 Axes>"
      ]
     },
     "metadata": {
      "needs_background": "light"
     },
     "output_type": "display_data"
    }
   ],
   "source": [
    "sns.scatterplot(data=data,x='Col 2_inv',y='Col 1')"
   ]
  },
  {
   "cell_type": "markdown",
   "id": "02d9ad09",
   "metadata": {},
   "source": [
    "# Q2"
   ]
  },
  {
   "cell_type": "code",
   "execution_count": 11,
   "id": "61c8518b",
   "metadata": {},
   "outputs": [
    {
     "data": {
      "text/html": [
       "<div>\n",
       "<style scoped>\n",
       "    .dataframe tbody tr th:only-of-type {\n",
       "        vertical-align: middle;\n",
       "    }\n",
       "\n",
       "    .dataframe tbody tr th {\n",
       "        vertical-align: top;\n",
       "    }\n",
       "\n",
       "    .dataframe thead th {\n",
       "        text-align: right;\n",
       "    }\n",
       "</style>\n",
       "<table border=\"1\" class=\"dataframe\">\n",
       "  <thead>\n",
       "    <tr style=\"text-align: right;\">\n",
       "      <th></th>\n",
       "      <th>Col 4</th>\n",
       "      <th>Col 2</th>\n",
       "    </tr>\n",
       "  </thead>\n",
       "  <tbody>\n",
       "    <tr>\n",
       "      <th>Col 4</th>\n",
       "      <td>1.000000</td>\n",
       "      <td>-0.265531</td>\n",
       "    </tr>\n",
       "    <tr>\n",
       "      <th>Col 2</th>\n",
       "      <td>-0.265531</td>\n",
       "      <td>1.000000</td>\n",
       "    </tr>\n",
       "  </tbody>\n",
       "</table>\n",
       "</div>"
      ],
      "text/plain": [
       "          Col 4     Col 2\n",
       "Col 4  1.000000 -0.265531\n",
       "Col 2 -0.265531  1.000000"
      ]
     },
     "execution_count": 11,
     "metadata": {},
     "output_type": "execute_result"
    }
   ],
   "source": [
    "data[['Col 4','Col 2']].corr()"
   ]
  },
  {
   "cell_type": "code",
   "execution_count": 12,
   "id": "f7a4268c",
   "metadata": {},
   "outputs": [
    {
     "data": {
      "text/plain": [
       "<AxesSubplot:xlabel='Col 2', ylabel='Col 4'>"
      ]
     },
     "execution_count": 12,
     "metadata": {},
     "output_type": "execute_result"
    },
    {
     "data": {
      "image/png": "[encoded data removed]",
      "text/plain": [
       "<Figure size 432x288 with 1 Axes>"
      ]
     },
     "metadata": {
      "needs_background": "light"
     },
     "output_type": "display_data"
    }
   ],
   "source": [
    "sns.scatterplot(data=data,x='Col 2',y='Col 4')"
   ]
  },
  {
   "cell_type": "markdown",
   "id": "847ee559",
   "metadata": {},
   "source": [
    "# Q3"
   ]
  },
  {
   "cell_type": "code",
   "execution_count": 13,
   "id": "0e950241",
   "metadata": {},
   "outputs": [
    {
     "data": {
      "text/html": [
       "<div>\n",
       "<style scoped>\n",
       "    .dataframe tbody tr th:only-of-type {\n",
       "        vertical-align: middle;\n",
       "    }\n",
       "\n",
       "    .dataframe tbody tr th {\n",
       "        vertical-align: top;\n",
       "    }\n",
       "\n",
       "    .dataframe thead th {\n",
       "        text-align: right;\n",
       "    }\n",
       "</style>\n",
       "<table border=\"1\" class=\"dataframe\">\n",
       "  <thead>\n",
       "    <tr style=\"text-align: right;\">\n",
       "      <th></th>\n",
       "      <th>Col 1</th>\n",
       "      <th>Col 4</th>\n",
       "    </tr>\n",
       "  </thead>\n",
       "  <tbody>\n",
       "    <tr>\n",
       "      <th>Col 1</th>\n",
       "      <td>1.000000</td>\n",
       "      <td>-0.046129</td>\n",
       "    </tr>\n",
       "    <tr>\n",
       "      <th>Col 4</th>\n",
       "      <td>-0.046129</td>\n",
       "      <td>1.000000</td>\n",
       "    </tr>\n",
       "  </tbody>\n",
       "</table>\n",
       "</div>"
      ],
      "text/plain": [
       "          Col 1     Col 4\n",
       "Col 1  1.000000 -0.046129\n",
       "Col 4 -0.046129  1.000000"
      ]
     },
     "execution_count": 13,
     "metadata": {},
     "output_type": "execute_result"
    }
   ],
   "source": [
    "data[['Col 1','Col 4']].corr()"
   ]
  },
  {
   "cell_type": "code",
   "execution_count": 14,
   "id": "dbcbbdd2",
   "metadata": {},
   "outputs": [
    {
     "data": {
      "text/plain": [
       "<AxesSubplot:xlabel='Col 4', ylabel='Col 1'>"
      ]
     },
     "execution_count": 14,
     "metadata": {},
     "output_type": "execute_result"
    },
    {
     "data": {
      "image/png": "[encoded data removed]",
      "text/plain": [
       "<Figure size 432x288 with 1 Axes>"
      ]
     },
     "metadata": {
      "needs_background": "light"
     },
     "output_type": "display_data"
    }
   ],
   "source": [
    "sns.scatterplot(data=data,x='Col 4',y='Col 1')"
   ]
  },
  {
   "cell_type": "markdown",
   "id": "52254eee",
   "metadata": {},
   "source": [
    "# Q4"
   ]
  },
  {
   "cell_type": "code",
   "execution_count": 15,
   "id": "274dc33c",
   "metadata": {},
   "outputs": [
    {
     "data": {
      "text/html": [
       "<div>\n",
       "<style scoped>\n",
       "    .dataframe tbody tr th:only-of-type {\n",
       "        vertical-align: middle;\n",
       "    }\n",
       "\n",
       "    .dataframe tbody tr th {\n",
       "        vertical-align: top;\n",
       "    }\n",
       "\n",
       "    .dataframe thead th {\n",
       "        text-align: right;\n",
       "    }\n",
       "</style>\n",
       "<table border=\"1\" class=\"dataframe\">\n",
       "  <thead>\n",
       "    <tr style=\"text-align: right;\">\n",
       "      <th></th>\n",
       "      <th>Col 3</th>\n",
       "      <th>Col 4</th>\n",
       "    </tr>\n",
       "  </thead>\n",
       "  <tbody>\n",
       "    <tr>\n",
       "      <th>Col 3</th>\n",
       "      <td>1.000000</td>\n",
       "      <td>-0.005246</td>\n",
       "    </tr>\n",
       "    <tr>\n",
       "      <th>Col 4</th>\n",
       "      <td>-0.005246</td>\n",
       "      <td>1.000000</td>\n",
       "    </tr>\n",
       "  </tbody>\n",
       "</table>\n",
       "</div>"
      ],
      "text/plain": [
       "          Col 3     Col 4\n",
       "Col 3  1.000000 -0.005246\n",
       "Col 4 -0.005246  1.000000"
      ]
     },
     "execution_count": 15,
     "metadata": {},
     "output_type": "execute_result"
    }
   ],
   "source": [
    "data[['Col 3','Col 4']].corr()"
   ]
  },
  {
   "cell_type": "code",
   "execution_count": 16,
   "id": "37c85bdf",
   "metadata": {},
   "outputs": [
    {
     "data": {
      "text/plain": [
       "<AxesSubplot:xlabel='Col 3', ylabel='Col 4'>"
      ]
     },
     "execution_count": 16,
     "metadata": {},
     "output_type": "execute_result"
    },
    {
     "data": {
      "image/png": "[encoded data removed]",
      "text/plain": [
       "<Figure size 432x288 with 1 Axes>"
      ]
     },
     "metadata": {
      "needs_background": "light"
     },
     "output_type": "display_data"
    }
   ],
   "source": [
    "sns.scatterplot(data=data,x='Col 3',y='Col 4')"
   ]
  },
  {
   "cell_type": "markdown",
   "id": "6a36914c",
   "metadata": {},
   "source": [
    "# Q5"
   ]
  },
  {
   "cell_type": "code",
   "execution_count": 17,
   "id": "34f1bd4a",
   "metadata": {},
   "outputs": [
    {
     "data": {
      "text/html": [
       "<div>\n",
       "<style scoped>\n",
       "    .dataframe tbody tr th:only-of-type {\n",
       "        vertical-align: middle;\n",
       "    }\n",
       "\n",
       "    .dataframe tbody tr th {\n",
       "        vertical-align: top;\n",
       "    }\n",
       "\n",
       "    .dataframe thead th {\n",
       "        text-align: right;\n",
       "    }\n",
       "</style>\n",
       "<table border=\"1\" class=\"dataframe\">\n",
       "  <thead>\n",
       "    <tr style=\"text-align: right;\">\n",
       "      <th></th>\n",
       "      <th>Col 2</th>\n",
       "      <th>Col 5</th>\n",
       "    </tr>\n",
       "  </thead>\n",
       "  <tbody>\n",
       "    <tr>\n",
       "      <th>Col 2</th>\n",
       "      <td>1.000000</td>\n",
       "      <td>0.211244</td>\n",
       "    </tr>\n",
       "    <tr>\n",
       "      <th>Col 5</th>\n",
       "      <td>0.211244</td>\n",
       "      <td>1.000000</td>\n",
       "    </tr>\n",
       "  </tbody>\n",
       "</table>\n",
       "</div>"
      ],
      "text/plain": [
       "          Col 2     Col 5\n",
       "Col 2  1.000000  0.211244\n",
       "Col 5  0.211244  1.000000"
      ]
     },
     "execution_count": 17,
     "metadata": {},
     "output_type": "execute_result"
    }
   ],
   "source": [
    "data[['Col 2','Col 5']].corr()"
   ]
  },
  {
   "cell_type": "code",
   "execution_count": 18,
   "id": "b4463509",
   "metadata": {},
   "outputs": [
    {
     "data": {
      "text/plain": [
       "<AxesSubplot:xlabel='Col 2', ylabel='Col 5'>"
      ]
     },
     "execution_count": 18,
     "metadata": {},
     "output_type": "execute_result"
    },
    {
     "data": {
      "image/png": "[encoded data removed]",
      "text/plain": [
       "<Figure size 432x288 with 1 Axes>"
      ]
     },
     "metadata": {
      "needs_background": "light"
     },
     "output_type": "display_data"
    }
   ],
   "source": [
    "sns.scatterplot(data=data,x='Col 2',y='Col 5')"
   ]
  },
  {
   "cell_type": "markdown",
   "id": "0f08799f",
   "metadata": {},
   "source": [
    "# Q6"
   ]
  },
  {
   "cell_type": "code",
   "execution_count": 19,
   "id": "4428f129",
   "metadata": {},
   "outputs": [],
   "source": [
    "import statsmodels.api as sm "
   ]
  },
  {
   "cell_type": "code",
   "execution_count": 20,
   "id": "6c23e245",
   "metadata": {},
   "outputs": [
    {
     "name": "stderr",
     "output_type": "stream",
     "text": [
      "/var/folders/6m/_jhpdtwj4x3cy4zqr92lgkpr0000gp/T/ipykernel_93089/509066540.py:1: FutureWarning: In a future version of pandas all arguments of DataFrame.drop except for the argument 'labels' will be keyword-only.\n",
      "  x_vars=sm.add_constant(data.drop(['Col 1','Col 2'],1))\n"
     ]
    }
   ],
   "source": [
    "x_vars=sm.add_constant(data.drop(['Col 1','Col 2'],1))"
   ]
  },
  {
   "cell_type": "code",
   "execution_count": 21,
   "id": "823482c8",
   "metadata": {},
   "outputs": [
    {
     "data": {
      "text/html": [
       "<div>\n",
       "<style scoped>\n",
       "    .dataframe tbody tr th:only-of-type {\n",
       "        vertical-align: middle;\n",
       "    }\n",
       "\n",
       "    .dataframe tbody tr th {\n",
       "        vertical-align: top;\n",
       "    }\n",
       "\n",
       "    .dataframe thead th {\n",
       "        text-align: right;\n",
       "    }\n",
       "</style>\n",
       "<table border=\"1\" class=\"dataframe\">\n",
       "  <thead>\n",
       "    <tr style=\"text-align: right;\">\n",
       "      <th></th>\n",
       "      <th>const</th>\n",
       "      <th>Col 3</th>\n",
       "      <th>Col 4</th>\n",
       "      <th>Col 5</th>\n",
       "      <th>Col 6</th>\n",
       "      <th>Col 2_inv</th>\n",
       "    </tr>\n",
       "  </thead>\n",
       "  <tbody>\n",
       "    <tr>\n",
       "      <th>0</th>\n",
       "      <td>1.0</td>\n",
       "      <td>5.2</td>\n",
       "      <td>61.20</td>\n",
       "      <td>22.13</td>\n",
       "      <td>83.3</td>\n",
       "      <td>1.000000</td>\n",
       "    </tr>\n",
       "    <tr>\n",
       "      <th>1</th>\n",
       "      <td>1.0</td>\n",
       "      <td>4.9</td>\n",
       "      <td>20.00</td>\n",
       "      <td>23.50</td>\n",
       "      <td>14.0</td>\n",
       "      <td>2.500000</td>\n",
       "    </tr>\n",
       "    <tr>\n",
       "      <th>2</th>\n",
       "      <td>1.0</td>\n",
       "      <td>0.3</td>\n",
       "      <td>11.90</td>\n",
       "      <td>17.90</td>\n",
       "      <td>64.7</td>\n",
       "      <td>0.181818</td>\n",
       "    </tr>\n",
       "    <tr>\n",
       "      <th>3</th>\n",
       "      <td>1.0</td>\n",
       "      <td>1.8</td>\n",
       "      <td>3.10</td>\n",
       "      <td>18.16</td>\n",
       "      <td>11.6</td>\n",
       "      <td>10.000000</td>\n",
       "    </tr>\n",
       "    <tr>\n",
       "      <th>4</th>\n",
       "      <td>1.0</td>\n",
       "      <td>0.5</td>\n",
       "      <td>63.00</td>\n",
       "      <td>69.20</td>\n",
       "      <td>87.6</td>\n",
       "      <td>0.011136</td>\n",
       "    </tr>\n",
       "    <tr>\n",
       "      <th>5</th>\n",
       "      <td>1.0</td>\n",
       "      <td>0.0</td>\n",
       "      <td>6.20</td>\n",
       "      <td>17.64</td>\n",
       "      <td>62.0</td>\n",
       "      <td>0.093458</td>\n",
       "    </tr>\n",
       "    <tr>\n",
       "      <th>6</th>\n",
       "      <td>1.0</td>\n",
       "      <td>0.1</td>\n",
       "      <td>13.80</td>\n",
       "      <td>27.00</td>\n",
       "      <td>5.4</td>\n",
       "      <td>0.294118</td>\n",
       "    </tr>\n",
       "    <tr>\n",
       "      <th>7</th>\n",
       "      <td>1.0</td>\n",
       "      <td>0.1</td>\n",
       "      <td>2.60</td>\n",
       "      <td>19.00</td>\n",
       "      <td>16.1</td>\n",
       "      <td>0.056497</td>\n",
       "    </tr>\n",
       "    <tr>\n",
       "      <th>8</th>\n",
       "      <td>1.0</td>\n",
       "      <td>5.7</td>\n",
       "      <td>0.61</td>\n",
       "      <td>4.31</td>\n",
       "      <td>17.8</td>\n",
       "      <td>0.010526</td>\n",
       "    </tr>\n",
       "    <tr>\n",
       "      <th>9</th>\n",
       "      <td>1.0</td>\n",
       "      <td>0.1</td>\n",
       "      <td>3.53</td>\n",
       "      <td>18.43</td>\n",
       "      <td>32.6</td>\n",
       "      <td>1.428571</td>\n",
       "    </tr>\n",
       "    <tr>\n",
       "      <th>10</th>\n",
       "      <td>1.0</td>\n",
       "      <td>0.1</td>\n",
       "      <td>8.70</td>\n",
       "      <td>2.60</td>\n",
       "      <td>42.5</td>\n",
       "      <td>0.038760</td>\n",
       "    </tr>\n",
       "    <tr>\n",
       "      <th>11</th>\n",
       "      <td>1.0</td>\n",
       "      <td>2.8</td>\n",
       "      <td>38.80</td>\n",
       "      <td>8.40</td>\n",
       "      <td>22.8</td>\n",
       "      <td>0.370370</td>\n",
       "    </tr>\n",
       "    <tr>\n",
       "      <th>12</th>\n",
       "      <td>1.0</td>\n",
       "      <td>0.4</td>\n",
       "      <td>8.10</td>\n",
       "      <td>3.32</td>\n",
       "      <td>57.3</td>\n",
       "      <td>0.038911</td>\n",
       "    </tr>\n",
       "    <tr>\n",
       "      <th>13</th>\n",
       "      <td>1.0</td>\n",
       "      <td>0.9</td>\n",
       "      <td>8.50</td>\n",
       "      <td>15.10</td>\n",
       "      <td>74.9</td>\n",
       "      <td>0.017036</td>\n",
       "    </tr>\n",
       "    <tr>\n",
       "      <th>14</th>\n",
       "      <td>1.0</td>\n",
       "      <td>6.2</td>\n",
       "      <td>43.30</td>\n",
       "      <td>3.89</td>\n",
       "      <td>26.8</td>\n",
       "      <td>0.250000</td>\n",
       "    </tr>\n",
       "    <tr>\n",
       "      <th>15</th>\n",
       "      <td>1.0</td>\n",
       "      <td>1.2</td>\n",
       "      <td>44.10</td>\n",
       "      <td>5.97</td>\n",
       "      <td>16.5</td>\n",
       "      <td>0.312500</td>\n",
       "    </tr>\n",
       "    <tr>\n",
       "      <th>16</th>\n",
       "      <td>1.0</td>\n",
       "      <td>0.4</td>\n",
       "      <td>0.16</td>\n",
       "      <td>76.50</td>\n",
       "      <td>2.3</td>\n",
       "      <td>0.010834</td>\n",
       "    </tr>\n",
       "    <tr>\n",
       "      <th>17</th>\n",
       "      <td>1.0</td>\n",
       "      <td>0.5</td>\n",
       "      <td>0.90</td>\n",
       "      <td>14.00</td>\n",
       "      <td>30.4</td>\n",
       "      <td>0.037175</td>\n",
       "    </tr>\n",
       "    <tr>\n",
       "      <th>18</th>\n",
       "      <td>1.0</td>\n",
       "      <td>0.1</td>\n",
       "      <td>0.30</td>\n",
       "      <td>3.50</td>\n",
       "      <td>99.1</td>\n",
       "      <td>0.011287</td>\n",
       "    </tr>\n",
       "    <tr>\n",
       "      <th>19</th>\n",
       "      <td>1.0</td>\n",
       "      <td>0.1</td>\n",
       "      <td>0.30</td>\n",
       "      <td>3.40</td>\n",
       "      <td>44.9</td>\n",
       "      <td>0.044643</td>\n",
       "    </tr>\n",
       "    <tr>\n",
       "      <th>20</th>\n",
       "      <td>1.0</td>\n",
       "      <td>2.1</td>\n",
       "      <td>0.15</td>\n",
       "      <td>0.67</td>\n",
       "      <td>97.9</td>\n",
       "      <td>0.028249</td>\n",
       "    </tr>\n",
       "    <tr>\n",
       "      <th>21</th>\n",
       "      <td>1.0</td>\n",
       "      <td>2.3</td>\n",
       "      <td>0.12</td>\n",
       "      <td>12.10</td>\n",
       "      <td>40.3</td>\n",
       "      <td>0.025000</td>\n",
       "    </tr>\n",
       "    <tr>\n",
       "      <th>22</th>\n",
       "      <td>1.0</td>\n",
       "      <td>31.0</td>\n",
       "      <td>0.22</td>\n",
       "      <td>1.60</td>\n",
       "      <td>59.9</td>\n",
       "      <td>0.010526</td>\n",
       "    </tr>\n",
       "    <tr>\n",
       "      <th>23</th>\n",
       "      <td>1.0</td>\n",
       "      <td>1.4</td>\n",
       "      <td>0.55</td>\n",
       "      <td>0.76</td>\n",
       "      <td>99.0</td>\n",
       "      <td>0.014706</td>\n",
       "    </tr>\n",
       "    <tr>\n",
       "      <th>24</th>\n",
       "      <td>1.0</td>\n",
       "      <td>0.0</td>\n",
       "      <td>0.17</td>\n",
       "      <td>2.72</td>\n",
       "      <td>28.0</td>\n",
       "      <td>0.014970</td>\n",
       "    </tr>\n",
       "  </tbody>\n",
       "</table>\n",
       "</div>"
      ],
      "text/plain": [
       "    const  Col 3  Col 4  Col 5  Col 6  Col 2_inv\n",
       "0     1.0    5.2  61.20  22.13   83.3   1.000000\n",
       "1     1.0    4.9  20.00  23.50   14.0   2.500000\n",
       "2     1.0    0.3  11.90  17.90   64.7   0.181818\n",
       "3     1.0    1.8   3.10  18.16   11.6  10.000000\n",
       "4     1.0    0.5  63.00  69.20   87.6   0.011136\n",
       "5     1.0    0.0   6.20  17.64   62.0   0.093458\n",
       "6     1.0    0.1  13.80  27.00    5.4   0.294118\n",
       "7     1.0    0.1   2.60  19.00   16.1   0.056497\n",
       "8     1.0    5.7   0.61   4.31   17.8   0.010526\n",
       "9     1.0    0.1   3.53  18.43   32.6   1.428571\n",
       "10    1.0    0.1   8.70   2.60   42.5   0.038760\n",
       "11    1.0    2.8  38.80   8.40   22.8   0.370370\n",
       "12    1.0    0.4   8.10   3.32   57.3   0.038911\n",
       "13    1.0    0.9   8.50  15.10   74.9   0.017036\n",
       "14    1.0    6.2  43.30   3.89   26.8   0.250000\n",
       "15    1.0    1.2  44.10   5.97   16.5   0.312500\n",
       "16    1.0    0.4   0.16  76.50    2.3   0.010834\n",
       "17    1.0    0.5   0.90  14.00   30.4   0.037175\n",
       "18    1.0    0.1   0.30   3.50   99.1   0.011287\n",
       "19    1.0    0.1   0.30   3.40   44.9   0.044643\n",
       "20    1.0    2.1   0.15   0.67   97.9   0.028249\n",
       "21    1.0    2.3   0.12  12.10   40.3   0.025000\n",
       "22    1.0   31.0   0.22   1.60   59.9   0.010526\n",
       "23    1.0    1.4   0.55   0.76   99.0   0.014706\n",
       "24    1.0    0.0   0.17   2.72   28.0   0.014970"
      ]
     },
     "execution_count": 21,
     "metadata": {},
     "output_type": "execute_result"
    }
   ],
   "source": [
    "x_vars"
   ]
  },
  {
   "cell_type": "code",
   "execution_count": 22,
   "id": "0c1c9ba0",
   "metadata": {},
   "outputs": [],
   "source": [
    "mod = sm.OLS(data['Col 1'], x_vars)"
   ]
  },
  {
   "cell_type": "code",
   "execution_count": 23,
   "id": "694fd39b",
   "metadata": {},
   "outputs": [],
   "source": [
    "res=mod.fit()"
   ]
  },
  {
   "cell_type": "code",
   "execution_count": 24,
   "id": "45a2ddba",
   "metadata": {},
   "outputs": [
    {
     "data": {
      "text/html": [
       "<table class=\"simpletable\">\n",
       "<tr>\n",
       "        <td>Model:</td>               <td>OLS</td>         <td>Adj. R-squared:</td>     <td>0.997</td> \n",
       "</tr>\n",
       "<tr>\n",
       "  <td>Dependent Variable:</td>       <td>Col 1</td>             <td>AIC:</td>         <td>198.7154</td>\n",
       "</tr>\n",
       "<tr>\n",
       "         <td>Date:</td>        <td>2023-04-08 19:41</td>        <td>BIC:</td>         <td>206.0287</td>\n",
       "</tr>\n",
       "<tr>\n",
       "   <td>No. Observations:</td>         <td>25</td>          <td>Log-Likelihood:</td>    <td>-93.358</td>\n",
       "</tr>\n",
       "<tr>\n",
       "       <td>Df Model:</td>              <td>5</td>           <td>F-statistic:</td>       <td>1420.</td> \n",
       "</tr>\n",
       "<tr>\n",
       "     <td>Df Residuals:</td>           <td>19</td>        <td>Prob (F-statistic):</td> <td>9.36e-24</td>\n",
       "</tr>\n",
       "<tr>\n",
       "      <td>R-squared:</td>            <td>0.997</td>            <td>Scale:</td>         <td>134.99</td> \n",
       "</tr>\n",
       "</table>\n",
       "<table class=\"simpletable\">\n",
       "<tr>\n",
       "      <td></td>       <th>Coef.</th>  <th>Std.Err.</th>    <th>t</th>     <th>P>|t|</th>  <th>[0.025</th>   <th>0.975]</th> \n",
       "</tr>\n",
       "<tr>\n",
       "  <th>const</th>     <td>-2.7027</td>  <td>5.4160</td>  <td>-0.4990</td> <td>0.6235</td> <td>-14.0385</td>  <td>8.6331</td> \n",
       "</tr>\n",
       "<tr>\n",
       "  <th>Col 3</th>     <td>-0.1910</td>  <td>0.3904</td>  <td>-0.4891</td> <td>0.6304</td>  <td>-1.0082</td>  <td>0.6262</td> \n",
       "</tr>\n",
       "<tr>\n",
       "  <th>Col 4</th>     <td>-0.1108</td>  <td>0.1268</td>  <td>-0.8738</td> <td>0.3931</td>  <td>-0.3761</td>  <td>0.1546</td> \n",
       "</tr>\n",
       "<tr>\n",
       "  <th>Col 5</th>     <td>-0.0190</td>  <td>0.1356</td>  <td>-0.1404</td> <td>0.8898</td>  <td>-0.3028</td>  <td>0.2647</td> \n",
       "</tr>\n",
       "<tr>\n",
       "  <th>Col 6</th>     <td>0.0466</td>   <td>0.0811</td>  <td>0.5752</td>  <td>0.5719</td>  <td>-0.1231</td>  <td>0.2164</td> \n",
       "</tr>\n",
       "<tr>\n",
       "  <th>Col 2_inv</th> <td>98.8300</td>  <td>1.2208</td>  <td>80.9570</td> <td>0.0000</td>  <td>96.2749</td> <td>101.3851</td>\n",
       "</tr>\n",
       "</table>\n",
       "<table class=\"simpletable\">\n",
       "<tr>\n",
       "     <td>Omnibus:</td>    <td>49.755</td>  <td>Durbin-Watson:</td>    <td>1.614</td> \n",
       "</tr>\n",
       "<tr>\n",
       "  <td>Prob(Omnibus):</td>  <td>0.000</td> <td>Jarque-Bera (JB):</td> <td>259.718</td>\n",
       "</tr>\n",
       "<tr>\n",
       "       <td>Skew:</td>     <td>-3.624</td>     <td>Prob(JB):</td>      <td>0.000</td> \n",
       "</tr>\n",
       "<tr>\n",
       "     <td>Kurtosis:</td>   <td>17.028</td>  <td>Condition No.:</td>     <td>135</td>  \n",
       "</tr>\n",
       "</table>"
      ],
      "text/plain": [
       "<class 'statsmodels.iolib.summary2.Summary'>\n",
       "\"\"\"\n",
       "                 Results: Ordinary least squares\n",
       "=================================================================\n",
       "Model:              OLS              Adj. R-squared:     0.997   \n",
       "Dependent Variable: Col 1            AIC:                198.7154\n",
       "Date:               2023-04-08 19:41 BIC:                206.0287\n",
       "No. Observations:   25               Log-Likelihood:     -93.358 \n",
       "Df Model:           5                F-statistic:        1420.   \n",
       "Df Residuals:       19               Prob (F-statistic): 9.36e-24\n",
       "R-squared:          0.997            Scale:              134.99  \n",
       "------------------------------------------------------------------\n",
       "             Coef.   Std.Err.     t     P>|t|    [0.025    0.975] \n",
       "------------------------------------------------------------------\n",
       "const       -2.7027    5.4160  -0.4990  0.6235  -14.0385    8.6331\n",
       "Col 3       -0.1910    0.3904  -0.4891  0.6304   -1.0082    0.6262\n",
       "Col 4       -0.1108    0.1268  -0.8738  0.3931   -0.3761    0.1546\n",
       "Col 5       -0.0190    0.1356  -0.1404  0.8898   -0.3028    0.2647\n",
       "Col 6        0.0466    0.0811   0.5752  0.5719   -0.1231    0.2164\n",
       "Col 2_inv   98.8300    1.2208  80.9570  0.0000   96.2749  101.3851\n",
       "-----------------------------------------------------------------\n",
       "Omnibus:             49.755       Durbin-Watson:          1.614  \n",
       "Prob(Omnibus):       0.000        Jarque-Bera (JB):       259.718\n",
       "Skew:                -3.624       Prob(JB):               0.000  \n",
       "Kurtosis:            17.028       Condition No.:          135    \n",
       "=================================================================\n",
       "\n",
       "\"\"\""
      ]
     },
     "execution_count": 24,
     "metadata": {},
     "output_type": "execute_result"
    }
   ],
   "source": [
    "res.summary2()"
   ]
  },
  {
   "cell_type": "markdown",
   "id": "e7e9100f",
   "metadata": {},
   "source": [
    "# Comments \n",
    "\n",
    "* it looks like col 2 inverse is more or less copy of col 1 . if that is somehow has happened during the data processing and col 1 and col 2 are not actually independently observed data points then we will need to exclude col 2 from the analysis \n",
    "\n",
    "* if col 1 and col 2 are independently observed , then in that case col 2 is sufficient to model col1 , other information doesnt seem necessary or significantly related to col 1"
   ]
  },
  {
   "cell_type": "code",
   "execution_count": null,
   "id": "3da94511",
   "metadata": {},
   "outputs": [],
   "source": []
  }
 ],
 "metadata": {
  "kernelspec": {
   "display_name": "Python 3 (ipykernel)",
   "language": "python",
   "name": "python3"
  },
  "language_info": {
   "codemirror_mode": {
    "name": "ipython",
    "version": 3
   },
   "file_extension": ".py",
   "mimetype": "text/x-python",
   "name": "python",
   "nbconvert_exporter": "python",
   "pygments_lexer": "ipython3",
   "version": "3.9.13"
  }
 },
 "nbformat": 4,
 "nbformat_minor": 5
}
